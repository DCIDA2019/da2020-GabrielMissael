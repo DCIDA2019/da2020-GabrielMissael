{
 "cells": [
  {
   "cell_type": "markdown",
   "metadata": {},
   "source": [
    "# Ejemplos de uso de pandas con datos reales. (Cap.3- sección 2 en adelante)\n",
    "##### Creado por Gabriel Missael Barco el 06/02/2020\n",
    "\n",
    "En este archivos se continua con la elaboración de ejemplos del capitulo 3 del libro, pero esta vez ya con datos de temperatura y lluvia reales de México (2019). Son en total 4 archivos, que usaremos para ejemplificar el uso de Pandas y para al final tener como producto terminado una sola base de datos que tenga todas las tablas de los archivos anteriores, una para lluvias y otra para la temperatura."
   ]
  },
  {
   "cell_type": "code",
   "execution_count": 16,
   "metadata": {},
   "outputs": [
    {
     "data": {
      "text/html": [
       "<div>\n",
       "<style scoped>\n",
       "    .dataframe tbody tr th:only-of-type {\n",
       "        vertical-align: middle;\n",
       "    }\n",
       "\n",
       "    .dataframe tbody tr th {\n",
       "        vertical-align: top;\n",
       "    }\n",
       "\n",
       "    .dataframe thead th {\n",
       "        text-align: right;\n",
       "    }\n",
       "</style>\n",
       "<table border=\"1\" class=\"dataframe\">\n",
       "  <thead>\n",
       "    <tr style=\"text-align: right;\">\n",
       "      <th></th>\n",
       "      <th>Lon</th>\n",
       "      <th>Lat</th>\n",
       "      <th>Clave</th>\n",
       "      <th>Edo</th>\n",
       "      <th>Est</th>\n",
       "      <th>Tmed</th>\n",
       "    </tr>\n",
       "  </thead>\n",
       "  <tbody>\n",
       "    <tr>\n",
       "      <th>0</th>\n",
       "      <td>-99.75</td>\n",
       "      <td>16.76</td>\n",
       "      <td>76805</td>\n",
       "      <td>GRO</td>\n",
       "      <td>ACAPULCO</td>\n",
       "      <td>27.441935</td>\n",
       "    </tr>\n",
       "    <tr>\n",
       "      <th>1</th>\n",
       "      <td>-111.83</td>\n",
       "      <td>30.71</td>\n",
       "      <td>76113</td>\n",
       "      <td>SON</td>\n",
       "      <td>ALTAR</td>\n",
       "      <td>13.462069</td>\n",
       "    </tr>\n",
       "    <tr>\n",
       "      <th>2</th>\n",
       "      <td>-93.90</td>\n",
       "      <td>16.24</td>\n",
       "      <td>76840</td>\n",
       "      <td>CHIS</td>\n",
       "      <td>ARRIAGA</td>\n",
       "      <td>28.088710</td>\n",
       "    </tr>\n",
       "    <tr>\n",
       "      <th>3</th>\n",
       "      <td>-90.50</td>\n",
       "      <td>19.83</td>\n",
       "      <td>76695</td>\n",
       "      <td>CAMP</td>\n",
       "      <td>CAMPECHE</td>\n",
       "      <td>23.374074</td>\n",
       "    </tr>\n",
       "    <tr>\n",
       "      <th>4</th>\n",
       "      <td>-111.65</td>\n",
       "      <td>25.01</td>\n",
       "      <td>76402</td>\n",
       "      <td>BCS</td>\n",
       "      <td>CD. CONSTITUCIÓN</td>\n",
       "      <td>17.987097</td>\n",
       "    </tr>\n",
       "  </tbody>\n",
       "</table>\n",
       "</div>"
      ],
      "text/plain": [
       "      Lon    Lat  Clave   Edo               Est       Tmed\n",
       "0  -99.75  16.76  76805   GRO          ACAPULCO  27.441935\n",
       "1 -111.83  30.71  76113   SON             ALTAR  13.462069\n",
       "2  -93.90  16.24  76840  CHIS           ARRIAGA  28.088710\n",
       "3  -90.50  19.83  76695  CAMP          CAMPECHE  23.374074\n",
       "4 -111.65  25.01  76402   BCS  CD. CONSTITUCIÓN  17.987097"
      ]
     },
     "execution_count": 16,
     "metadata": {},
     "output_type": "execute_result"
    }
   ],
   "source": [
    "import pandas as pd\n",
    "import numpy as np\n",
    "\n",
    "#Cargamos los archivos .csv a un DataFrame\n",
    "tempMax = pd.read_csv(\"temperatura_maxima.csv\", encoding = 'Latin-1')\n",
    "tempMid = pd.read_csv(\"temperatura_media.csv\", encoding = 'Latin-1')\n",
    "tempMin = pd.read_csv(\"temperatura_minima.csv\", encoding = 'Latin-1')\n",
    "lluvia = pd.read_csv(\"lluvia.csv\", encoding = 'Latin-1')\n",
    "\n",
    "#Previsualizamos la cabecera una tabla\n",
    "tempMid.head()"
   ]
  },
  {
   "cell_type": "markdown",
   "metadata": {},
   "source": [
    "## Seleccion de datos en series\n",
    "#### Series como diccionarios."
   ]
  },
  {
   "cell_type": "code",
   "execution_count": 36,
   "metadata": {},
   "outputs": [
    {
     "name": "stdout",
     "output_type": "stream",
     "text": [
      "CHIS\n",
      "False\n",
      "RangeIndex(start=0, stop=635, step=1)\n"
     ]
    },
    {
     "data": {
      "text/plain": [
       "[(1, 'SON'),\n",
       " (2, 'CHIS'),\n",
       " (3, 'CAMP'),\n",
       " (4, 'BCS'),\n",
       " (5, 'SON'),\n",
       " (6, 'TAMPS'),\n",
       " (7, 'DF')]"
      ]
     },
     "execution_count": 36,
     "metadata": {},
     "output_type": "execute_result"
    }
   ],
   "source": [
    "#Cargamos la columna de estados como una serie\n",
    "estados = pd.Series(tempMid['Edo'])\n",
    "\n",
    "#Podemos operar como con diccionarios\n",
    "print(estados[12])\n",
    "print('GTO' in estados)\n",
    "print(estados.keys())\n",
    "list(estados[1:8].items())"
   ]
  },
  {
   "cell_type": "markdown",
   "metadata": {},
   "source": [
    "#### Series como arreglos unidimensionales"
   ]
  },
  {
   "cell_type": "code",
   "execution_count": 43,
   "metadata": {},
   "outputs": [
    {
     "name": "stdout",
     "output_type": "stream",
     "text": [
      "1      SON\n",
      "2     CHIS\n",
      "3     CAMP\n",
      "4      BCS\n",
      "5      SON\n",
      "6    TAMPS\n",
      "Name: Edo, dtype: object\n",
      "DF\n",
      "DF\n"
     ]
    }
   ],
   "source": [
    "#Podemos acceder las series como arreglos\n",
    "print(estados[1:7])\n",
    "print(estados.loc[7])"
   ]
  },
  {
   "cell_type": "markdown",
   "metadata": {},
   "source": [
    "### Seleccion de datos con DataFrame\n",
    "\n",
    "Usaremos el DataFrame tempMid\n",
    "\n",
    "#### DataFrame como un diccionario"
   ]
  },
  {
   "cell_type": "code",
   "execution_count": 53,
   "metadata": {},
   "outputs": [
    {
     "name": "stdout",
     "output_type": "stream",
     "text": [
      "0    27.441935\n",
      "1    13.462069\n",
      "2    28.088710\n",
      "3    23.374074\n",
      "4    17.987097\n",
      "Name: Tmed, dtype: float64\n",
      "0    27.441935\n",
      "1    13.462069\n",
      "2    28.088710\n",
      "3    23.374074\n",
      "4    17.987097\n",
      "Name: Tmed, dtype: float64\n",
      "True\n",
      "0   -0.275107\n",
      "1   -0.120380\n",
      "2   -0.299134\n",
      "3   -0.258277\n",
      "4   -0.161103\n",
      "Name: raiz, dtype: float64\n"
     ]
    }
   ],
   "source": [
    "#Accedemos como a un diccionario\n",
    "print(tempMid['Tmed'][0:5])\n",
    "print(tempMid.Tmed[0:5])\n",
    "print(tempMid['Tmed'] is tempMid.Tmed)\n",
    "\n",
    "#Podemos realizar operacions\n",
    "tempAux = tempMid.copy()\n",
    "tempAux['raiz'] = tempAux['Tmed'] / tempAux['Lon']\n",
    "print(tempAux.raiz[0:5])"
   ]
  },
  {
   "cell_type": "markdown",
   "metadata": {},
   "source": [
    "### Data Frame como arreglo bidimensional"
   ]
  },
  {
   "cell_type": "code",
   "execution_count": 63,
   "metadata": {},
   "outputs": [
    {
     "name": "stdout",
     "output_type": "stream",
     "text": [
      "[[-99.75 16.76 '76805' 'GRO' 'ACAPULCO' 27.44193548 -0.2751071226065163]]\n",
      "       0       1     2     3       4       5      6     7     8       9    \\\n",
      "Lon -99.75 -111.83 -93.9 -90.5 -111.65 -109.92 -99.17 -99.2 -88.3 -106.13   \n",
      "\n",
      "     ...    625     626    627    628    629    630   631    632    633   634  \n",
      "Lon  ... -99.12 -103.73 -99.47 -99.73 -99.65 -99.24 -99.8 -95.93 -95.52 -89.5  \n",
      "\n",
      "[1 rows x 635 columns]\n",
      "      Lon    Lat  Clave   Edo\n",
      "0  -99.75  16.76  76805   GRO\n",
      "1 -111.83  30.71  76113   SON\n",
      "2  -93.90  16.24  76840  CHIS\n"
     ]
    }
   ],
   "source": [
    "#Consultar valores\n",
    "print(tempAux.values[0:1])\n",
    "#Tranponer los datos\n",
    "print(tempAux.T[0:1])\n",
    "\n",
    "#Indexar como Numpy\n",
    "print(tempAux.loc[:2 , :'Edo'])"
   ]
  },
  {
   "cell_type": "markdown",
   "metadata": {},
   "source": [
    "## Operando datos en Pandas\n",
    "Pandas puede realizar tantas operaciones casi como Numpy :)\n",
    "### Unfuncs: preservacion de indices"
   ]
  },
  {
   "cell_type": "code",
   "execution_count": 66,
   "metadata": {},
   "outputs": [
    {
     "name": "stdout",
     "output_type": "stream",
     "text": [
      "0    8.277156e+11\n",
      "1    7.022670e+05\n",
      "2    1.580417e+12\n",
      "3    1.416548e+10\n",
      "4    6.481819e+07\n",
      "Name: Tmed, dtype: float64\n",
      "0    0.424403\n",
      "1   -0.912071\n",
      "2   -0.069616\n",
      "3   -0.472038\n",
      "4    0.999949\n",
      "Name: Tmed, dtype: float64\n"
     ]
    }
   ],
   "source": [
    "#Podemos realizar operaciones cool\n",
    "print(np.exp(tempAux.Tmed[0:5]))\n",
    "print(np.sin(tempAux.Tmed[0:5]*np.pi / 4))\n"
   ]
  },
  {
   "cell_type": "markdown",
   "metadata": {},
   "source": [
    "### UFunc: Alineacion de indices\n",
    "Pandas alinea los indices en el proceso mientras hace las operaciones\n",
    "\n",
    "### Alineacion de indices en series\n",
    "Lo mismo que con DataFrames, si no esta toda la info, se lo salta y pone NaN. Si no quieres Nan, puedes usar otras cosas, como para sumar usar A.add(B, fill_value=0)\n",
    "\n",
    "Python Operator\tPandas Method(s)\n",
    "```\n",
    "+\tadd()\n",
    "-\tsub(), subtract()\n",
    "*\tmul(), multiply()\n",
    "/\ttruediv(), div(), divide()\n",
    "//\tfloordiv()\n",
    "%\tmod()\n",
    "**\tpow()\n",
    "```"
   ]
  },
  {
   "cell_type": "markdown",
   "metadata": {},
   "source": [
    "## Manejando datos perdidos\n",
    "En cualquier conjunto de datos reales habrá datos 'perdidios'. Pandas puede manejarlos. Los datos perdidios se expresan como NaN o como None.\n",
    "\n",
    "### None: Pythonic missing data\n",
    "No conviene tener None en un arreglo Numpy comun, ya que las operaciones serán mucho ams lentas, ya que no seran numeros, si no objetos. Tampoco puedes realizar calculos.\n",
    "\n",
    "### NaN (Not a Number): Missing numerical data\n",
    "Es und dato tipo flotante estandarizado."
   ]
  },
  {
   "cell_type": "code",
   "execution_count": 75,
   "metadata": {},
   "outputs": [
    {
     "name": "stdout",
     "output_type": "stream",
     "text": [
      "object float64\n",
      "nan\n",
      "nan\n",
      "3.0\n",
      "1.0\n",
      "2.0\n"
     ]
    }
   ],
   "source": [
    "vals1 = np.array([1, 2, None])\n",
    "vals2 = np.array([1, 2, np.nan])\n",
    "\n",
    "#Crea cosas diferentes\n",
    "print(vals1.dtype, vals2.dtype)\n",
    "\n",
    "#Con Nan si se puede operar\n",
    "print(1+np.nan)\n",
    "print(0*np.nan)\n",
    "\n",
    "#Si hay un nan en tu arreglo, debes usar otros comandos\n",
    "print(np.nansum(vals2))\n",
    "print(np.nanmin(vals2))\n",
    "print(np.nanmax(vals2))"
   ]
  },
  {
   "cell_type": "markdown",
   "metadata": {},
   "source": [
    "### NaN y None en Pandas"
   ]
  },
  {
   "cell_type": "code",
   "execution_count": 78,
   "metadata": {},
   "outputs": [
    {
     "name": "stdout",
     "output_type": "stream",
     "text": [
      "0    1.0\n",
      "1    NaN\n",
      "2    2.0\n",
      "3    NaN\n",
      "dtype: float64\n",
      "0    NaN\n",
      "1    NaN\n",
      "2    2.0\n",
      "3    NaN\n",
      "dtype: float64\n"
     ]
    }
   ],
   "source": [
    "#Soporta ambos tipos de datos\n",
    "aux = pd.Series([1, np.nan, 2, None])\n",
    "print(aux)\n",
    "\n",
    "#Pasa todo None a Nan\n",
    "aux[0] = None\n",
    "print(aux)"
   ]
  },
  {
   "cell_type": "markdown",
   "metadata": {},
   "source": [
    "### Operando con valores nulos\n",
    "Se usan los siguientes comandos: \n",
    "- isnull(): Generate a boolean mask indicating missing values\n",
    "- notnull(): Opposite of isnull()\n",
    "- dropna(): Return a filtered version of the data\n",
    "- fillna(): Return a copy of the data with missing values - filled or imputed"
   ]
  },
  {
   "cell_type": "code",
   "execution_count": 85,
   "metadata": {},
   "outputs": [
    {
     "name": "stdout",
     "output_type": "stream",
     "text": [
      "     Lon    Lat  Clave    Edo    Est   Tmed\n",
      "0  False  False  False  False  False  False\n",
      "1  False  False  False  False  False  False\n",
      "2  False  False  False  False  False  False\n",
      "3  False  False  False  False  False  False\n",
      "4  False  False  False  False  False  False\n",
      "False\n"
     ]
    }
   ],
   "source": [
    "#Veamos si hay datos nulos en la info de lluvia\n",
    "nulos = tempMid.isnull()\n",
    "\n",
    "#Asi se ve\n",
    "print(nulos[0:5])\n",
    "\n",
    "#Vemos si hay alguno\n",
    "print(True in nulos)\n",
    "#No hay :)"
   ]
  },
  {
   "cell_type": "markdown",
   "metadata": {},
   "source": [
    "## Indexación jerarquica\n",
    "Esto es indexación multiple para poder crear conjuntos de datos de mayos dimension. Puede verse como una matrix n-dimensioanal o como un grafo.\n",
    "\n",
    "### Series con indexación multiple"
   ]
  },
  {
   "cell_type": "code",
   "execution_count": 106,
   "metadata": {},
   "outputs": [
    {
     "name": "stdout",
     "output_type": "stream",
     "text": [
      "[['California', 'New York', 'Texas'], [2000, 2010]] [[0, 0, 1, 1, 2, 2], [0, 1, 0, 1, 0, 1]]\n",
      "California  2000    33871648\n",
      "            2010    37253956\n",
      "New York    2000    18976457\n",
      "            2010    19378102\n",
      "Texas       2000    20851820\n",
      "            2010    25145561\n",
      "dtype: int64\n"
     ]
    }
   ],
   "source": [
    "#Ejemplo\n",
    "tupla = [('California', 2000), ('California', 2010),\n",
    "         ('New York', 2000), ('New York', 2010),\n",
    "         ('Texas', 2000), ('Texas', 2010)]\n",
    "indice = pd.MultiIndex.from_tuples(tupla)\n",
    "print(indice.levels, indice.codes)\n",
    "\n",
    "poblacion = [33871648, 37253956,\n",
    "               18976457, 19378102,\n",
    "               20851820, 25145561]\n",
    "\n",
    "multi = pd.Series(poblacion, indice)\n",
    "print(multi)"
   ]
  },
  {
   "cell_type": "code",
   "execution_count": 194,
   "metadata": {},
   "outputs": [],
   "source": [
    "estados = np.array(tempMid.Edo)\n",
    "est = []\n",
    "pos = []\n",
    "cor = []\n",
    "\n",
    "est.append(estados[0])\n",
    "\n",
    "for i in estados:\n",
    "    if i not in est:\n",
    "        est.append(i)\n",
    "        \n",
    "for i in est:\n",
    "    pos.append((i, 'Lon'))\n",
    "    pos.append((i, 'Lat'))\n",
    "\n",
    "for i in range(len(tempMid.Lon)):\n",
    "    cor.append(tempMid.Lon[i])\n",
    "    cor.append(tempMid.Lat[i])\n",
    "\n",
    "index = pd.MultiIndex.from_tuples(pos)\n",
    "datos = pd.Series(cor[0:62], index = index)"
   ]
  },
  {
   "cell_type": "code",
   "execution_count": 196,
   "metadata": {},
   "outputs": [
    {
     "data": {
      "text/plain": [
       "GRO   Lon    -99.75\n",
       "      Lat     16.76\n",
       "SON   Lon   -111.83\n",
       "      Lat     30.71\n",
       "CHIS  Lon    -93.90\n",
       "      Lat     16.24\n",
       "CAMP  Lon    -90.50\n",
       "      Lat     19.83\n",
       "dtype: float64"
      ]
     },
     "execution_count": 196,
     "metadata": {},
     "output_type": "execute_result"
    }
   ],
   "source": [
    "datos[0:8]"
   ]
  },
  {
   "cell_type": "markdown",
   "metadata": {},
   "source": [
    "### MultiIndex como dimension extra\n",
    "\n",
    "Podemos convertir series con indice multiple en un dataframe normal. Parece ser que un indice multiple no se util en este caso, pero para 3 o mas dimensiones si que lo es."
   ]
  },
  {
   "cell_type": "code",
   "execution_count": 201,
   "metadata": {},
   "outputs": [
    {
     "data": {
      "text/html": [
       "<div>\n",
       "<style scoped>\n",
       "    .dataframe tbody tr th:only-of-type {\n",
       "        vertical-align: middle;\n",
       "    }\n",
       "\n",
       "    .dataframe tbody tr th {\n",
       "        vertical-align: top;\n",
       "    }\n",
       "\n",
       "    .dataframe thead th {\n",
       "        text-align: right;\n",
       "    }\n",
       "</style>\n",
       "<table border=\"1\" class=\"dataframe\">\n",
       "  <thead>\n",
       "    <tr style=\"text-align: right;\">\n",
       "      <th></th>\n",
       "      <th>Lat</th>\n",
       "      <th>Lon</th>\n",
       "    </tr>\n",
       "  </thead>\n",
       "  <tbody>\n",
       "    <tr>\n",
       "      <th>AGS</th>\n",
       "      <td>28.70</td>\n",
       "      <td>-100.52</td>\n",
       "    </tr>\n",
       "    <tr>\n",
       "      <th>BC</th>\n",
       "      <td>21.28</td>\n",
       "      <td>-89.65</td>\n",
       "    </tr>\n",
       "    <tr>\n",
       "      <th>BCS</th>\n",
       "      <td>25.01</td>\n",
       "      <td>-111.65</td>\n",
       "    </tr>\n",
       "    <tr>\n",
       "      <th>CAMP</th>\n",
       "      <td>19.83</td>\n",
       "      <td>-90.50</td>\n",
       "    </tr>\n",
       "    <tr>\n",
       "      <th>CHIH</th>\n",
       "      <td>18.48</td>\n",
       "      <td>-88.30</td>\n",
       "    </tr>\n",
       "  </tbody>\n",
       "</table>\n",
       "</div>"
      ],
      "text/plain": [
       "        Lat     Lon\n",
       "AGS   28.70 -100.52\n",
       "BC    21.28  -89.65\n",
       "BCS   25.01 -111.65\n",
       "CAMP  19.83  -90.50\n",
       "CHIH  18.48  -88.30"
      ]
     },
     "execution_count": 201,
     "metadata": {},
     "output_type": "execute_result"
    }
   ],
   "source": [
    "datos_df = datos.unstack()\n",
    "datos_df.head()"
   ]
  },
  {
   "cell_type": "code",
   "execution_count": 200,
   "metadata": {},
   "outputs": [
    {
     "data": {
      "text/plain": [
       "AGS  Lat     28.70\n",
       "     Lon   -100.52\n",
       "BC   Lat     21.28\n",
       "     Lon    -89.65\n",
       "BCS  Lat     25.01\n",
       "             ...  \n",
       "VER  Lon   -103.46\n",
       "YUC  Lat     26.92\n",
       "     Lon   -105.67\n",
       "ZAC  Lat     21.28\n",
       "     Lon    -98.81\n",
       "Length: 62, dtype: float64"
      ]
     },
     "execution_count": 200,
     "metadata": {},
     "output_type": "execute_result"
    }
   ],
   "source": [
    "#Podemos regresar a lo anterior\n",
    "datos_df.stack()"
   ]
  },
  {
   "cell_type": "code",
   "execution_count": 205,
   "metadata": {},
   "outputs": [
    {
     "data": {
      "text/html": [
       "<div>\n",
       "<style scoped>\n",
       "    .dataframe tbody tr th:only-of-type {\n",
       "        vertical-align: middle;\n",
       "    }\n",
       "\n",
       "    .dataframe tbody tr th {\n",
       "        vertical-align: top;\n",
       "    }\n",
       "\n",
       "    .dataframe thead th {\n",
       "        text-align: right;\n",
       "    }\n",
       "</style>\n",
       "<table border=\"1\" class=\"dataframe\">\n",
       "  <thead>\n",
       "    <tr style=\"text-align: right;\">\n",
       "      <th></th>\n",
       "      <th></th>\n",
       "      <th>Datos</th>\n",
       "      <th>Unos :3</th>\n",
       "    </tr>\n",
       "  </thead>\n",
       "  <tbody>\n",
       "    <tr>\n",
       "      <th rowspan=\"2\" valign=\"top\">GRO</th>\n",
       "      <th>Lon</th>\n",
       "      <td>-99.75</td>\n",
       "      <td>1</td>\n",
       "    </tr>\n",
       "    <tr>\n",
       "      <th>Lat</th>\n",
       "      <td>16.76</td>\n",
       "      <td>1</td>\n",
       "    </tr>\n",
       "    <tr>\n",
       "      <th rowspan=\"2\" valign=\"top\">SON</th>\n",
       "      <th>Lon</th>\n",
       "      <td>-111.83</td>\n",
       "      <td>1</td>\n",
       "    </tr>\n",
       "    <tr>\n",
       "      <th>Lat</th>\n",
       "      <td>30.71</td>\n",
       "      <td>1</td>\n",
       "    </tr>\n",
       "    <tr>\n",
       "      <th>CHIS</th>\n",
       "      <th>Lon</th>\n",
       "      <td>-93.90</td>\n",
       "      <td>1</td>\n",
       "    </tr>\n",
       "    <tr>\n",
       "      <th>...</th>\n",
       "      <th>...</th>\n",
       "      <td>...</td>\n",
       "      <td>...</td>\n",
       "    </tr>\n",
       "    <tr>\n",
       "      <th>AGS</th>\n",
       "      <th>Lat</th>\n",
       "      <td>28.70</td>\n",
       "      <td>1</td>\n",
       "    </tr>\n",
       "    <tr>\n",
       "      <th rowspan=\"2\" valign=\"top\">BC</th>\n",
       "      <th>Lon</th>\n",
       "      <td>-89.65</td>\n",
       "      <td>1</td>\n",
       "    </tr>\n",
       "    <tr>\n",
       "      <th>Lat</th>\n",
       "      <td>21.28</td>\n",
       "      <td>1</td>\n",
       "    </tr>\n",
       "    <tr>\n",
       "      <th rowspan=\"2\" valign=\"top\">TAB</th>\n",
       "      <th>Lon</th>\n",
       "      <td>-98.17</td>\n",
       "      <td>1</td>\n",
       "    </tr>\n",
       "    <tr>\n",
       "      <th>Lat</th>\n",
       "      <td>19.05</td>\n",
       "      <td>1</td>\n",
       "    </tr>\n",
       "  </tbody>\n",
       "</table>\n",
       "<p>62 rows × 2 columns</p>\n",
       "</div>"
      ],
      "text/plain": [
       "           Datos  Unos :3\n",
       "GRO  Lon  -99.75        1\n",
       "     Lat   16.76        1\n",
       "SON  Lon -111.83        1\n",
       "     Lat   30.71        1\n",
       "CHIS Lon  -93.90        1\n",
       "...          ...      ...\n",
       "AGS  Lat   28.70        1\n",
       "BC   Lon  -89.65        1\n",
       "     Lat   21.28        1\n",
       "TAB  Lon  -98.17        1\n",
       "     Lat   19.05        1\n",
       "\n",
       "[62 rows x 2 columns]"
      ]
     },
     "execution_count": 205,
     "metadata": {},
     "output_type": "execute_result"
    }
   ],
   "source": [
    "datos_df = pd.DataFrame({'Datos': datos,\n",
    "                         'Unos :3':1})\n",
    "datos_df"
   ]
  },
  {
   "cell_type": "code",
   "execution_count": 210,
   "metadata": {},
   "outputs": [
    {
     "data": {
      "text/html": [
       "<div>\n",
       "<style scoped>\n",
       "    .dataframe tbody tr th:only-of-type {\n",
       "        vertical-align: middle;\n",
       "    }\n",
       "\n",
       "    .dataframe tbody tr th {\n",
       "        vertical-align: top;\n",
       "    }\n",
       "\n",
       "    .dataframe thead th {\n",
       "        text-align: right;\n",
       "    }\n",
       "</style>\n",
       "<table border=\"1\" class=\"dataframe\">\n",
       "  <thead>\n",
       "    <tr style=\"text-align: right;\">\n",
       "      <th></th>\n",
       "      <th>Lat</th>\n",
       "      <th>Lon</th>\n",
       "    </tr>\n",
       "  </thead>\n",
       "  <tbody>\n",
       "    <tr>\n",
       "      <th>AGS</th>\n",
       "      <td>0.034843</td>\n",
       "      <td>-0.009948</td>\n",
       "    </tr>\n",
       "    <tr>\n",
       "      <th>BC</th>\n",
       "      <td>0.046992</td>\n",
       "      <td>-0.011154</td>\n",
       "    </tr>\n",
       "    <tr>\n",
       "      <th>BCS</th>\n",
       "      <td>0.039984</td>\n",
       "      <td>-0.008957</td>\n",
       "    </tr>\n",
       "    <tr>\n",
       "      <th>CAMP</th>\n",
       "      <td>0.050429</td>\n",
       "      <td>-0.011050</td>\n",
       "    </tr>\n",
       "    <tr>\n",
       "      <th>CHIH</th>\n",
       "      <td>0.054113</td>\n",
       "      <td>-0.011325</td>\n",
       "    </tr>\n",
       "  </tbody>\n",
       "</table>\n",
       "</div>"
      ],
      "text/plain": [
       "           Lat       Lon\n",
       "AGS   0.034843 -0.009948\n",
       "BC    0.046992 -0.011154\n",
       "BCS   0.039984 -0.008957\n",
       "CAMP  0.050429 -0.011050\n",
       "CHIH  0.054113 -0.011325"
      ]
     },
     "execution_count": 210,
     "metadata": {},
     "output_type": "execute_result"
    }
   ],
   "source": [
    "f_u18 = datos_df['Unos :3'] / datos_df['Datos']\n",
    "f_u18.unstack()[0:5]"
   ]
  },
  {
   "cell_type": "markdown",
   "metadata": {},
   "source": [
    "### Metodos de creacion de indice multiple\n",
    "Tan solo es necesario ponerlo bien en el constructor, con los indices correctos o con un diccionario bien organizado."
   ]
  },
  {
   "cell_type": "code",
   "execution_count": 212,
   "metadata": {},
   "outputs": [
    {
     "data": {
      "text/html": [
       "<div>\n",
       "<style scoped>\n",
       "    .dataframe tbody tr th:only-of-type {\n",
       "        vertical-align: middle;\n",
       "    }\n",
       "\n",
       "    .dataframe tbody tr th {\n",
       "        vertical-align: top;\n",
       "    }\n",
       "\n",
       "    .dataframe thead th {\n",
       "        text-align: right;\n",
       "    }\n",
       "</style>\n",
       "<table border=\"1\" class=\"dataframe\">\n",
       "  <thead>\n",
       "    <tr style=\"text-align: right;\">\n",
       "      <th></th>\n",
       "      <th></th>\n",
       "      <th>data1</th>\n",
       "      <th>data2</th>\n",
       "    </tr>\n",
       "  </thead>\n",
       "  <tbody>\n",
       "    <tr>\n",
       "      <th rowspan=\"2\" valign=\"top\">a</th>\n",
       "      <th>1</th>\n",
       "      <td>0.593608</td>\n",
       "      <td>0.353891</td>\n",
       "    </tr>\n",
       "    <tr>\n",
       "      <th>2</th>\n",
       "      <td>0.646886</td>\n",
       "      <td>0.877086</td>\n",
       "    </tr>\n",
       "    <tr>\n",
       "      <th rowspan=\"2\" valign=\"top\">b</th>\n",
       "      <th>1</th>\n",
       "      <td>0.114713</td>\n",
       "      <td>0.838972</td>\n",
       "    </tr>\n",
       "    <tr>\n",
       "      <th>2</th>\n",
       "      <td>0.229684</td>\n",
       "      <td>0.576360</td>\n",
       "    </tr>\n",
       "  </tbody>\n",
       "</table>\n",
       "</div>"
      ],
      "text/plain": [
       "        data1     data2\n",
       "a 1  0.593608  0.353891\n",
       "  2  0.646886  0.877086\n",
       "b 1  0.114713  0.838972\n",
       "  2  0.229684  0.576360"
      ]
     },
     "execution_count": 212,
     "metadata": {},
     "output_type": "execute_result"
    }
   ],
   "source": [
    "df = pd.DataFrame(np.random.rand(4, 2),\n",
    "                  index=[['a', 'a', 'b', 'b'], [1, 2, 1, 2]],\n",
    "                  columns=['data1', 'data2'])\n",
    "df"
   ]
  },
  {
   "cell_type": "markdown",
   "metadata": {},
   "source": [
    "### Metodos explitisos de creacion de indice multiple\n",
    "Hay un metodo especifico para hacerlo, que ya usamos antes"
   ]
  },
  {
   "cell_type": "code",
   "execution_count": 215,
   "metadata": {},
   "outputs": [
    {
     "name": "stdout",
     "output_type": "stream",
     "text": [
      "MultiIndex([('a', 1),\n",
      "            ('a', 2),\n",
      "            ('b', 1),\n",
      "            ('b', 2)],\n",
      "           )\n",
      "MultiIndex([('a', 1),\n",
      "            ('a', 2),\n",
      "            ('b', 1),\n",
      "            ('b', 2)],\n",
      "           )\n",
      "MultiIndex([('a', 1),\n",
      "            ('a', 2),\n",
      "            ('b', 1),\n",
      "            ('b', 2)],\n",
      "           )\n"
     ]
    }
   ],
   "source": [
    "print(pd.MultiIndex.from_arrays([['a', 'a', 'b', 'b'], \n",
    "                           [1, 2, 1, 2]]))\n",
    "print(pd.MultiIndex.from_tuples([('a', 1), ('a', 2), ('b', 1), ('b', 2)])\n",
    ")\n",
    "print(pd.MultiIndex.from_product([['a', 'b'], [1, 2]]))"
   ]
  },
  {
   "cell_type": "code",
   "execution_count": null,
   "metadata": {},
   "outputs": [],
   "source": []
  }
 ],
 "metadata": {
  "kernelspec": {
   "display_name": "Python 3",
   "language": "python",
   "name": "python3"
  },
  "language_info": {
   "codemirror_mode": {
    "name": "ipython",
    "version": 3
   },
   "file_extension": ".py",
   "mimetype": "text/x-python",
   "name": "python",
   "nbconvert_exporter": "python",
   "pygments_lexer": "ipython3",
   "version": "3.7.1"
  }
 },
 "nbformat": 4,
 "nbformat_minor": 2
}
