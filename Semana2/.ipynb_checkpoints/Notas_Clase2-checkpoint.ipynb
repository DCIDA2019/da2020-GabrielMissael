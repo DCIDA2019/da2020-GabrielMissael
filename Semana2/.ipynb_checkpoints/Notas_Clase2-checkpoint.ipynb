{
 "cells": [
  {
   "cell_type": "markdown",
   "metadata": {},
   "source": [
    "# Clase 2\n",
    "###### Gabriel Missael Barco - 31/01/2020\n",
    "\n",
    "Para **abrir** archivos con Numpy:\n",
    "\n",
    "```\n",
    "np.save(fname, (x,y,z))\n",
    "```\n",
    "\n",
    "Si sabes la estructura del archivo, lo puedes meter \"directo\":\n",
    "```\n",
    "x, y, z = np.load(\"fname.py\")\n",
    "```\n",
    "Si no, pues en un arreglo \"Temporal\":\n",
    "```\n",
    "x, y, z = np.load(\"fname.py\")\n",
    "```\n",
    "Para saber la **forma** de un arreglo, en general: \n",
    "```\n",
    "tmp.shape()\n",
    "```\n",
    "Tipos de **archivos** de datos:\n",
    "- csv (diccionario)\n",
    "- fits (binarios con etiquetas)\n",
    "- hdfs\n",
    "\n",
    "Cualquiera de los tres tipos de archivos maneja tipos de datos relacionales."
   ]
  },
  {
   "cell_type": "code",
   "execution_count": null,
   "metadata": {},
   "outputs": [],
   "source": []
  }
 ],
 "metadata": {
  "kernelspec": {
   "display_name": "Python 3",
   "language": "python",
   "name": "python3"
  },
  "language_info": {
   "codemirror_mode": {
    "name": "ipython",
    "version": 3
   },
   "file_extension": ".py",
   "mimetype": "text/x-python",
   "name": "python",
   "nbconvert_exporter": "python",
   "pygments_lexer": "ipython3",
   "version": "3.7.1"
  }
 },
 "nbformat": 4,
 "nbformat_minor": 2
}
