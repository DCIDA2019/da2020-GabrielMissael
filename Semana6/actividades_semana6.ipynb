{
 "cells": [
  {
   "cell_type": "code",
   "execution_count": 128,
   "metadata": {},
   "outputs": [],
   "source": [
    "import numpy as np\n",
    "import math as mt\n",
    "import matplotlib.pyplot as plt\n",
    "from scipy.optimize import minimize"
   ]
  },
  {
   "cell_type": "code",
   "execution_count": 129,
   "metadata": {},
   "outputs": [],
   "source": [
    "data = np.load(\"../datos/fit_exercise.npy\")"
   ]
  },
  {
   "cell_type": "code",
   "execution_count": 130,
   "metadata": {},
   "outputs": [
    {
     "data": {
      "image/png": "[encoded data removed]",
      "text/plain": [
       "<Figure size 432x288 with 1 Axes>"
      ]
     },
     "metadata": {
      "needs_background": "light"
     },
     "output_type": "display_data"
    }
   ],
   "source": [
    "plt.errorbar(data[0], data[1], yerr= data[2])\n",
    "plt.grid()"
   ]
  },
  {
   "cell_type": "code",
   "execution_count": 138,
   "metadata": {},
   "outputs": [],
   "source": [
    "def chi_square(m, b):\n",
    "    total = 0\n",
    "    for i in range(np.size(data[0])):\n",
    "        total += (data[1][i]-(m*data[0][i]+b))**2/data[2][i]**2\n",
    "    return total"
   ]
  },
  {
   "cell_type": "code",
   "execution_count": 139,
   "metadata": {},
   "outputs": [
    {
     "name": "stdout",
     "output_type": "stream",
     "text": [
      "2154.651498070416\n"
     ]
    }
   ],
   "source": [
    "print(chi_square(-1, 6))"
   ]
  },
  {
   "cell_type": "code",
   "execution_count": 161,
   "metadata": {},
   "outputs": [
    {
     "name": "stdout",
     "output_type": "stream",
     "text": [
      "Chi minima =  1246.4692834694686\n",
      "m =  -1.1111111111111112 b =  5.333333333333333\n"
     ]
    }
   ],
   "source": [
    "#MALLA BONITA\n",
    "m_min = -2\n",
    "m_max = 0\n",
    "b_min = 2\n",
    "b_max = 8\n",
    "N = 10\n",
    "\n",
    "m_inter = np.linspace(m_min, m_max, N)\n",
    "b_inter = np.linspace(b_min, b_max, N)\n",
    "chi = np.zeros((N, N))\n",
    "\n",
    "for i in range(N):\n",
    "    for j in range(N):\n",
    "        chi[i][j] = chi_square(m_inter[i], b_inter[j])\n",
    "        \n",
    "print(\"Chi minima = \",np.amin(chi))\n",
    "pos = np.where(chi == np.amin(chi))\n",
    "print(\"m = \", m_inter[pos[0][0]], \"b = \", b_inter[pos[1][0]])"
   ]
  },
  {
   "cell_type": "code",
   "execution_count": 162,
   "metadata": {},
   "outputs": [
    {
     "name": "stdout",
     "output_type": "stream",
     "text": [
      "Chi minima =  1310.2063193586876\n",
      "m =  -0.9631640242541135 b =  4.647855337375718\n"
     ]
    }
   ],
   "source": [
    "#Datos aleatorios\n",
    "\n",
    "N = 10\n",
    "chi = np.zeros((N, N))\n",
    "np.random.seed(5)\n",
    "m_inter = np.random.rand(N)\n",
    "b_inter = np.random.rand(N)\n",
    "\n",
    "m_inter = m_inter*(m_max-m_min)+m_min\n",
    "b_inter = b_inter*(b_max-b_min)+b_min\n",
    "\n",
    "for i in range(N):\n",
    "    for j in range(N):\n",
    "        chi[i][j] = chi_square(m_inter[i], b_inter[j])\n",
    "        \n",
    "print(\"Chi minima = \",np.amin(chi))\n",
    "pos = np.where(chi == np.amin(chi))\n",
    "print(\"m = \", m_inter[pos[0][0]], \"b = \", b_inter[pos[1][0]])"
   ]
  },
  {
   "cell_type": "code",
   "execution_count": 163,
   "metadata": {},
   "outputs": [
    {
     "data": {
      "text/plain": [
       "      fun: 1232.5007834139456\n",
       " hess_inv: array([[8.54238024e-05]])\n",
       "      jac: array([3.05175781e-05])\n",
       "  message: 'Desired error not necessarily achieved due to precision loss.'\n",
       "     nfev: 22\n",
       "      nit: 2\n",
       "     njev: 7\n",
       "   status: 2\n",
       "  success: False\n",
       "        x: array([-1.08656996])"
      ]
     },
     "execution_count": 163,
     "metadata": {},
     "output_type": "execute_result"
    }
   ],
   "source": [
    "optimize.minimize(chi_square, -1, 5.333333333333333)"
   ]
  },
  {
   "cell_type": "code",
   "execution_count": 168,
   "metadata": {},
   "outputs": [],
   "source": [
    "def binaria_m(b):\n",
    "    m_min = -2\n",
    "    m_max = 0\n",
    "    b_min = 2\n",
    "    b_max = 8\n",
    "    m_mid = (m_max-m_min)/2\n",
    "    pos_max = chi_square(m_max, b)\n",
    "    pos_min = chi_square(m_min, b)\n",
    "    pos_mid = chi_square(m_mid, b)\n",
    "    \n",
    "    count = 0\n",
    "    while(min(abs(m_mid-m_max), abs(m_mid-m_min))>0.00000000000001 and count<10000):\n",
    "        count+=1\n",
    "        if(pos_mid-pos_max<pos_mid-pos_min):\n",
    "            m_min = m_mid\n",
    "            pos_min = pos_mid\n",
    "            m_mid = (m_max-m_min)/2\n",
    "            pos_mid = chi_square(m_mid, b)\n",
    "        else:\n",
    "            m_max = m_mid\n",
    "            pos_max = pos_mid\n",
    "            m_mid = (m_max-m_min)/2\n",
    "            pos_mid = chi_square(m_mid, b)\n",
    "    \n",
    "    return m_mid"
   ]
  },
  {
   "cell_type": "code",
   "execution_count": 169,
   "metadata": {},
   "outputs": [
    {
     "data": {
      "text/plain": [
       "-0.9999999999999929"
      ]
     },
     "execution_count": 169,
     "metadata": {},
     "output_type": "execute_result"
    }
   ],
   "source": [
    "binaria_m(5.333333333333333)"
   ]
  },
  {
   "cell_type": "code",
   "execution_count": null,
   "metadata": {},
   "outputs": [],
   "source": []
  }
 ],
 "metadata": {
  "kernelspec": {
   "display_name": "Python 3",
   "language": "python",
   "name": "python3"
  },
  "language_info": {
   "codemirror_mode": {
    "name": "ipython",
    "version": 3
   },
   "file_extension": ".py",
   "mimetype": "text/x-python",
   "name": "python",
   "nbconvert_exporter": "python",
   "pygments_lexer": "ipython3",
   "version": "3.7.1"
  }
 },
 "nbformat": 4,
 "nbformat_minor": 2
}
