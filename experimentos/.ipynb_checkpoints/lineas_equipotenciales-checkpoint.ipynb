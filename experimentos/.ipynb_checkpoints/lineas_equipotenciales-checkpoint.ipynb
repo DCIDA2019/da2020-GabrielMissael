{
 "cells": [
  {
   "cell_type": "markdown",
   "metadata": {},
   "source": [
    "# Practica de laboratorio: Lineas equipotenciales\n",
    "###### Gabriel Missael Barco, 29/02/2020\n",
    "\n",
    "Se realizó el experimento de colocar dos electrodos con una diferencia de potencial de 5v aproximadamente, dentro de una solución de agua con sal, y despues"
   ]
  },
  {
   "cell_type": "code",
   "execution_count": 78,
   "metadata": {},
   "outputs": [],
   "source": [
    "import numpy as np\n",
    "import matplotlib.pyplot as plt\n",
    "import math as mt\n",
    "from scipy.interpolate import griddata"
   ]
  },
  {
   "cell_type": "code",
   "execution_count": 123,
   "metadata": {},
   "outputs": [],
   "source": [
    "#Hago el grid de puntos donde se tomaron medidas\n",
    "x = np.zeros((20, 2))\n",
    "\n",
    "for i in range(4):\n",
    "    for j in range(3):\n",
    "        x[i*3+j][0] = 10*(i+1)\n",
    "        x[i*3+j][1] = 10*(j+1)\n",
    "    \n",
    "for i in range(4):\n",
    "    x[12+i][0] = 10*(i+1)\n",
    "    x[12+i][1] = 40\n",
    "    x[16+i][0] = 10*(i+1)\n",
    "    x[16+i][1] = 0\n",
    "\n",
    "#Capturo datos medidos para el voltaje en cada punto en cada caso\n",
    "\n",
    "caso = np.zeros((20, 5))\n",
    "\n",
    "caso[0:12, 0] = [2.4, 2.19, 2.33, 3.15, 3.8, 3.13, 3.92, 4.03, 3.9, 4.75, 5.15, 4.94]\n",
    "caso[0:12, 1] = [2.7, 1.52, 2.3, 2.95, 2.91, 3.01, 3.78, 3.84, 3.84, 4.68, 4.85, 4.69]\n",
    "caso[0:12, 2] = [2.48, 2.34, 2.45, 3.17, 3.09, 3.13, 3.8, 3.83, 3.83, 4.51, 4.59, 4.49]\n",
    "caso[0:20, 3] = [1.86, 0.0, 1.77, 2.72, 2.55, 2.71, 3.81, 3.83, 3.79, 4.86, 5.03, 4.84,\n",
    "                2.07, 2.78, 3.68, 4.66, 2.14, 2.84, 3.72, 4.59]\n",
    "caso[0:20, 4] = [1.7, 0.0, 1.6, 2.36, 2.24, 2.32, 3.05, 3.09, 3.07, 3.87, 4.06, 3.83,\n",
    "                1.83, 2.33, 3.01, 3.59, 1.88, 2.39, 3.06, 3.66]"
   ]
  },
  {
   "cell_type": "code",
   "execution_count": 266,
   "metadata": {},
   "outputs": [
    {
     "name": "stdout",
     "output_type": "stream",
     "text": [
      "nan\n"
     ]
    },
    {
     "data": {
      "image/png": "[encoded data removed]",
      "text/plain": [
       "<Figure size 432x288 with 2 Axes>"
      ]
     },
     "metadata": {
      "needs_background": "light"
     },
     "output_type": "display_data"
    }
   ],
   "source": [
    "pos = 4\n",
    "\n",
    "mat = np.zeros((41,51))\n",
    "mat.fill(np.nan)\n",
    "\n",
    "count = 0\n",
    "for i in x:\n",
    "    if caso[count][pos] != 0:\n",
    "        mat[int(i[1])][int(i[0])] = caso[count][pos]\n",
    "    count += 1\n",
    "    \n",
    "mat_points = np.zeros((41*51, 2))\n",
    "for i in range(51):\n",
    "    for j in range(41):\n",
    "        mat_points[i*41+j][0] = i\n",
    "        mat_points[i*41+j][1] = j\n",
    "        \n",
    "        \n",
    "interpolation = griddata(x, caso[:,pos], mat_points, method='cubic')\n",
    "f = interpolate.interp2d(x[:,0], x[:,1], caso[:,pos], kind='cubic')\n",
    "\n",
    "mat_inter = np.zeros((51,41))\n",
    "count = 0\n",
    "for i in interpolation:\n",
    "    if i is not float:\n",
    "        i = f(int(mat_points[count][0]), int(mat_points[count][1]))\n",
    "    mat_inter[int(mat_points[count][0])][int(mat_points[count][1])] = i\n",
    "    count += 1\n",
    "\n",
    "print(mat[9][9])\n",
    "plt.imshow(mat_inter.T, cmap = \"inferno\")\n",
    "plt.imshow(mat, cmap = \"inferno\")\n",
    "cbar = plt.colorbar()\n",
    "cbar.set_label(\"Voltaje (V)\")\n",
    "plt.grid()\n",
    "plt.xlabel(\"Eje x (cm)\")\n",
    "plt.ylabel(\"Eje y (cm)\")\n",
    "\n",
    "plt.show()"
   ]
  },
  {
   "cell_type": "code",
   "execution_count": null,
   "metadata": {},
   "outputs": [],
   "source": []
  },
  {
   "cell_type": "code",
   "execution_count": 229,
   "metadata": {},
   "outputs": [],
   "source": []
  },
  {
   "cell_type": "code",
   "execution_count": null,
   "metadata": {},
   "outputs": [],
   "source": []
  }
 ],
 "metadata": {
  "kernelspec": {
   "display_name": "Python 3",
   "language": "python",
   "name": "python3"
  },
  "language_info": {
   "codemirror_mode": {
    "name": "ipython",
    "version": 3
   },
   "file_extension": ".py",
   "mimetype": "text/x-python",
   "name": "python",
   "nbconvert_exporter": "python",
   "pygments_lexer": "ipython3",
   "version": "3.7.1"
  }
 },
 "nbformat": 4,
 "nbformat_minor": 2
}
