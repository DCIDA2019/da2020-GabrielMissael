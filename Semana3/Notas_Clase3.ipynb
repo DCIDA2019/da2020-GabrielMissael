{
 "cells": [
  {
   "cell_type": "markdown",
   "metadata": {},
   "source": [
    "# Tipos de datos.\n",
    "###### Creado por Gabriel Missael Barco el 07/02/2020\n",
    "\n",
    "- Datos\n",
    "    - Categoricos\n",
    "        - Nominales\n",
    "        - Ordinales\n",
    "    - Numericos\n",
    "        - Discretos\n",
    "        - Continuos\n",
    "        \n",
    "Una vez tienes datos sobre algo, puedes: \n",
    "- Representarlos\n",
    "- Analizarlos\n",
    "- Interpretarlos\n",
    "- Inferenciar consecuencias\n",
    "\n",
    "Checar bibiografia:\n",
    "- Bayesian Data Analysis, Carlin, Stern and Rubin, CHAPMAN\n",
    "- Bayesian Reasoning in Data Analysis, Giulio D´"
   ]
  },
  {
   "cell_type": "markdown",
   "metadata": {},
   "source": [
    "## Estadistica \n",
    "Descriptiva, Inferencial... pero ¿Por qué necesito hacer estadistica y probabilidad? De manera general, para poder inferir algo de un conjunto de datos, probar hipotesis y, en el mejor de los casos, seleccionar un modelo para tomar decisiones. En astrofisica, hasta hace poco no se podia hacer nada de eso, porque no habia datos jajaja. Hoy en día hay datos suficientes para hacer inferencia, que es la parte que mas nos interesa en este campo.\n",
    "\n",
    "Un detalle con los modelos astrofisico, es que siempre medimos una sola cosa: El universo, porque **¡Solo hay uno!**, si, tengo muchos datos pero todos del mismo objeto. \n",
    "\n",
    "## Probabilidad\n",
    "**Definicion:** La proporcion entre el numero de casos favorables y un numero total de casos. Es una mediada del grado con el que crees que un evento va a ocurrir. \n",
    "Esta definicion aplica a cosmologia... ¿Cuál es la probabilidad de que dado un moledo, pueda obtener ciertos datos?"
   ]
  }
 ],
 "metadata": {
  "kernelspec": {
   "display_name": "Python 3",
   "language": "python",
   "name": "python3"
  },
  "language_info": {
   "codemirror_mode": {
    "name": "ipython",
    "version": 3
   },
   "file_extension": ".py",
   "mimetype": "text/x-python",
   "name": "python",
   "nbconvert_exporter": "python",
   "pygments_lexer": "ipython3",
   "version": "3.7.1"
  }
 },
 "nbformat": 4,
 "nbformat_minor": 2
}
