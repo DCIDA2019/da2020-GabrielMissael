{
 "cells": [
  {
   "cell_type": "markdown",
   "metadata": {},
   "source": [
    "# Clase remota 1 del día 27/03/2020\n",
    "<sup>Gabriel Missael Barco\n",
    "\n",
    "No siempre el conjunto de parametros que mejor se ajusta a mis datos es el que es mas probable para mi modelo, es decir, el mejor ajuste podria tener parametros que son casi imposibles.\n",
    "La respuesta a ambas preguntas (paramtreos con mejor ajuste o mas probables) muchas veces es la misma, pero esto no siempre es asi.\n",
    "\n",
    "Para encontrar los valores mas probables, puedo tomar el conjunto de valores que mas se aproximan conjuntamente al minimo de manera recurrente en mi minimización. \n",
    "\n",
    "### Likelihood\n",
    "Es una cosntrucción que realizamos para establecer la probabilidad de que nuestra hipotesis sobre un modelo o teoriea sea cierta dada que estamos observando unos datos determinados. Es la probabilidad de que el modelo sea el que describa a los datos.\n",
    "\n",
    "No tiene una forma unica, depende del tipo de datos que estoy manejando, es decir, que tipo de distribución de probabilidad tienen estos. Por ejemplo, si los datos son gaussianos, entonces podemos pensar que el likelihood también es gaussiano. Tenemos, en general que:\n",
    "\n",
    "$ L \\propto \\prod \\limits_{i}^{n} \\frac{1}{2\\pi\\sigma_i^2}exp(-\\frac{(y_i-\\mu)^2}{2\\sigma_i^2})$\n",
    "\n",
    "Por lo  general una minimización de chi-square corresponde a una maximización de el likelihood.Es importante notar que la preferencia entre minimizar chi-square o maximizar el likelihood (cuando estos no ocurren paraleleamente) depende completamente del problema que estemos abordando. No hay algo como uno mejor que otro.\n",
    "\n",
    "Por ejemplo, en terminos de puntos de datos y paramatros (donde lambda es nuestro modelo para cada $y_i$) asumiendo que los datos tienen una **distribución gaussiana** de los datos, entonces el likilehood se puede obtener cómo:\n",
    "\n",
    "$-ln(L(\\vec x,\\vec y|\\vec\\theta) \\propto \\frac{1}{2} \\sum_i (\\frac{(y_i-\\lambda(x_i,\\vec\\theta))^2}{\\sigma_i^2})$\n",
    "\n",
    "Es util expresarlo de esta manera para eliminar el exponencial y tener datos mas 'digeribles'. Pero ¿que pasa si queremos maximizar el likelihood de muchos parametros para un modelo bastante complejo y si ademas no es gaussiano? Para ello nos sirve el metodo montecarlo.\n",
    "\n",
    "### MonteCarlo - cadenas de Markov\n",
    "\n",
    "Este metodo consiste en generar un muestreo aleatorio para los parametros (por ejemplo, en la ecuación anterior, las $\\vec\\theta$ son los parametros libres que podemos muestrear), y despues los rechaza o los acepta dependiendo del likelihood que estos datos tengan. Esta discriminación se hace de acuerdo a likelihood anteriores, y en general, el algoritmo es:\n",
    "\n",
    "1. Elige un punto de partida $\\vec p_{old}$.\n",
    "2. Genera un punto nuevo en la vecindad de $\\vec p_{old}$, dado una distribución gaussiana:\n",
    "    - $p_{new}i = N(p_{old}i, \\sigma_i)$\n",
    "    \n",
    "   Es importante notar que cada parametro puede     tener un sigma distinto\n",
    "3. Si el likelihood de la nueva muestra es mas alta que la anterior, guardamos el nuevo:\n",
    "    - si $L(\\vec p_{new})>L(\\vec p_{old})$ entonces:\n",
    "    - $\\vec L_{old} = L_{new}$\n",
    "4. Si el likelihood de la nueva muestra es menor a la anterior, entonces tomamos un numero aleatorio $U = N(0,1)$; si el cociente de los likelihood $C = (p_{new})/(p_{old})$ es mas grande que dicho numero aleatorio, entonces la aceptamos.\n",
    "5. Si no cumple ninguna de las dos, entonces lo rechazamos.\n",
    "6. Regresa al paso 2, hasta dar N pasos.\n"
   ]
  },
  {
   "cell_type": "markdown",
   "metadata": {},
   "source": [
    "Despues de haber realizado los N pasos, vemos la distribición resultante (las cadenas) de los parametros, y por lo tanto, su likelihood :).\n",
    "\n",
    "Ojo: Checar el periodo de 'quemado' y la convergencia. \n",
    "\n",
    "<img src=\"https://www.researchgate.net/profile/Bernardita_Ried_Guachalla/publication/335291562/figure/fig2/AS:794195358924800@1566362337030/Example-of-a-Markov-Chain-Monte-Carlo-for-a-Multivariate-Gaussian-Distribution.ppm\" alt=\"Drawing\" style=\"width: 400px;\"/>\n",
    "\n",
    "Por lo general, teniendo un numero dado de parametros y despues de haber realizado el metodo montecarlo, los resulatados se suelen representar de la siguiente manera (muy util, y en 2d):\n",
    "\n",
    "<img src=\"https://inspirehep.net/record/1720816/files/CMB+BAO+JLA_Al_usual_thesis.png\" alt=\"Drawing\" style=\"width: 400px;\"/>\n",
    "\n",
    "Esta representación nos ayuda para observar la dependencia o la 'interacción' entre los parametros en el resultado obtenido.\n",
    "\n",
    "## Algoritmo en Python\n",
    "\n",
    "A continuación, un algoritmo general de este metodo de montecarlo :)"
   ]
  },
  {
   "cell_type": "code",
   "execution_count": 43,
   "metadata": {},
   "outputs": [],
   "source": [
    "import numpy as np\n",
    "import matplotlib.pyplot as plt\n",
    "import matplotlib as mpl"
   ]
  },
  {
   "cell_type": "code",
   "execution_count": 44,
   "metadata": {},
   "outputs": [],
   "source": [
    "def montecarlo_mc(datos, teoria, desviacion_teoria, modelo, desviaciones_parametros, p_old, n_pasos=5000, step_size=1):\n",
    "    '''\n",
    "    REQUIREMENTS: Numpy\n",
    "    DESCRIPTION: Esta funcion aplica el metodo de montecarlo para obtener los valores\n",
    "                 mas probables de determinados parametros de un modelo aplicado a\n",
    "                 ciertos datos conocidos.\n",
    "    IN: datos = las x, variable independiente,\n",
    "        teoria = las y, variable dependiente,\n",
    "        modelo = funcion que aplica el modelo,\n",
    "        desviaciones_parametros = desviaciones_parametros estandar conocidas para cada parametro,\n",
    "        p_old = aproximación inicial,\n",
    "        n_pasos = numero de pasos,\n",
    "        step_size = tamaño maximo de avance en todos los parametros\n",
    "    OUT: cadena de markov con likelihoods asociados\n",
    "    '''\n",
    "    \n",
    "    markov_chain = []\n",
    "    L_old = likelihood(datos, p_old, teoria, desviacion_teoria, modelo)\n",
    "    markov_chain.append([p_old, L_old])\n",
    "    \n",
    "    for paso in range(n_pasos):\n",
    "        \n",
    "        p_new = []\n",
    "        for j, parametro in enumerate(p_old):\n",
    "            p_new.append(desviaciones_parametros[j]*np.random.randn()*step_size+parametro)\n",
    "        \n",
    "        L_new = likelihood(datos, p_new, teoria, desviacion_teoria, modelo)\n",
    "        \n",
    "        if (L_new>L_old):\n",
    "            markov_chain.append([p_new, L_new])\n",
    "            p_old = p_new\n",
    "            L_old = L_new\n",
    "            continue\n",
    "        elif  (np.exp(L_new)/np.exp(L_old) > np.random.randn()):\n",
    "            markov_chain.append([p_new, L_new])\n",
    "        \n",
    "    else:     \n",
    "        return markov_chain\n",
    "            \n",
    "def likelihood(datos, parametros, teoria, desviacion_teoria, modelo):\n",
    "    suma = 0\n",
    "    for i in range (len(datos)):\n",
    "        suma += (teoria[i]-modelo(datos[i], parametros))**2/desviacion_teoria[i]**2\n",
    "    return -(1/2)*suma"
   ]
  },
  {
   "cell_type": "markdown",
   "metadata": {},
   "source": [
    "### Ejemplo aplicado a recta\n",
    "Usaremos este algoritmo para obtener los parametros de una recta, que son pendiente y ordenada al origen."
   ]
  },
  {
   "cell_type": "code",
   "execution_count": 45,
   "metadata": {},
   "outputs": [
    {
     "name": "stderr",
     "output_type": "stream",
     "text": [
      "C:\\Users\\missa\\Anaconda3\\lib\\site-packages\\ipykernel_launcher.py:34: RuntimeWarning: invalid value encountered in double_scalars\n"
     ]
    }
   ],
   "source": [
    "# Definimos el modelo que aplicamos, que es una recta\n",
    "def recta(x, parametros):\n",
    "    return x*parametros[0]+parametros[1]\n",
    "\n",
    "#Construimos la recta:\n",
    "x = np.linspace(0, 10, 1000)\n",
    "\n",
    "\n",
    "p_reales = [10, 12]\n",
    "des_p = [0.1, 0.1]\n",
    "y = x*p_reales[0]+p_reales[1]\n",
    "des_y = [0.1 for punto in range(len(y))]\n",
    "\n",
    "#Aplicamos el mcmc\n",
    "ajuste = montecarlo_mc(datos = x, desviacion_teoria = des_y, teoria = y, \n",
    "                       modelo = recta, desviaciones_parametros = des_p,\n",
    "                       p_old = [8, 8], n_pasos = 500, step_size = 1)"
   ]
  },
  {
   "cell_type": "markdown",
   "metadata": {},
   "source": [
    "A continuacion, graficaremos los puntos obtenidos, es decir, las componentes de la cadena de markov resultante. Podemos ver como aparentemente 'avanza' hacia los valores conocidos de la pendiente y la ordenada al origen."
   ]
  },
  {
   "cell_type": "code",
   "execution_count": 46,
   "metadata": {
    "scrolled": true
   },
   "outputs": [
    {
     "data": {
      "image/png": "[encoded data removed]",
      "text/plain": [
       "<Figure size 360x360 with 2 Axes>"
      ]
     },
     "metadata": {
      "needs_background": "light"
     },
     "output_type": "display_data"
    }
   ],
   "source": [
    "puntos = [x for x,y in ajuste]\n",
    "like = [y for x, y in ajuste]\n",
    "\n",
    "x = [x for x, y in puntos]\n",
    "y = [y for x, y in puntos]\n",
    "\n",
    "fig, ax0 = plt.subplots(figsize=(5, 5))\n",
    "\n",
    "cadena = ax0.scatter(x, y, c = np.abs(like),  cmap = 'viridis', marker = '.')\n",
    "ax0.plot()\n",
    "\n",
    "ax0.set_ylabel('Pendiente (m)')\n",
    "ax0.set_xlabel('Ordenada al origen (b)')\n",
    "ax0.set_title('Cadena de Markov Monte Carlo \\n aplicado a una recta') \n",
    "\n",
    "fig.colorbar(cadena, label='Likelihood')\n",
    "\n",
    "ax0.grid()"
   ]
  },
  {
   "cell_type": "code",
   "execution_count": 47,
   "metadata": {},
   "outputs": [
    {
     "name": "stdout",
     "output_type": "stream",
     "text": [
      "La aproximación final es, para la pendiente m = 9.8752\n",
      "Para la ordenada al origen b = 11.9193\n",
      "Los datos reales eran b=12, m = 10\n"
     ]
    }
   ],
   "source": [
    "print(f'La aproximación final es, para la pendiente m = {ajuste[-1][0][0]:.4f}\\n' + \\\n",
    "        f'Para la ordenada al origen b = {ajuste[-1][0][1]:.4f}\\n' +\\\n",
    "        f'Los datos reales eran b={p_reales[1]}, m = {p_reales[0]}')"
   ]
  },
  {
   "cell_type": "code",
   "execution_count": 50,
   "metadata": {},
   "outputs": [
    {
     "data": {
      "image/png": "[encoded data removed]",
      "text/plain": [
       "<Figure size 432x288 with 1 Axes>"
      ]
     },
     "metadata": {
      "needs_background": "light"
     },
     "output_type": "display_data"
    }
   ],
   "source": [
    "aux = [x for x in range(len(like))]\n",
    "plt.plot(aux, like)\n",
    "plt.ylabel('L(x)')\n",
    "plt.xlabel('Iteración admitida')\n",
    "plt.title('Aumento del likelihood de la cadena de Markov')\n",
    "plt.grid()"
   ]
  }
 ],
 "metadata": {
  "kernelspec": {
   "display_name": "Python 3",
   "language": "python",
   "name": "python3"
  },
  "language_info": {
   "codemirror_mode": {
    "name": "ipython",
    "version": 3
   },
   "file_extension": ".py",
   "mimetype": "text/x-python",
   "name": "python",
   "nbconvert_exporter": "python",
   "pygments_lexer": "ipython3",
   "version": "3.7.1"
  }
 },
 "nbformat": 4,
 "nbformat_minor": 2
}
